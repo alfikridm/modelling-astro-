{
 "cells": [
  {
   "cell_type": "code",
   "execution_count": 4,
   "metadata": {},
   "outputs": [
    {
     "data": {
      "image/png": "[encoded data removed]",
      "text/plain": [
       "<Figure size 432x288 with 1 Axes>"
      ]
     },
     "metadata": {
      "needs_background": "light"
     },
     "output_type": "display_data"
    }
   ],
   "source": [
    "import pylab\n",
    "import math\n",
    "\n",
    "# definisi variabel\n",
    "g = 1.0\n",
    "m1 = 1.0\n",
    "m2 = 0.5\n",
    "grav = g*m1*m2\n",
    "x1 = 0.0\n",
    "y1 = 0.0\n",
    "x2 = 1.5\n",
    "y2 = 0.0\n",
    "vx1 = 0.1\n",
    "vy1 = 0.1\n",
    "vx2 = -0.1\n",
    "vy2 = -0.1\n",
    "rm =  ((x1-x2)**2. + (y1-y2)**2.)**1.5\n",
    "ax1 = -grav*(x2-x1)/(rm*m1)\n",
    "ay1 = -grav*(y2-y1)/(rm*m1)\n",
    "ax2 = -grav*(x1-x2)/(rm*m2)\n",
    "ay2 = -grav*(y1-y2)/(rm*m2)\n",
    "\n",
    "\n",
    "t = 0.0\n",
    "dt = 0.000007\n",
    "tmax = 1\n",
    "\n",
    "\n",
    "x1list = []\n",
    "y1list = []\n",
    "\n",
    "x2list = []\n",
    "y2list = []\n",
    "\n",
    "# loop\n",
    "while t < tmax:\n",
    "\n",
    "    # menghitung posisi\n",
    "    x1 = x1+dt*vx1\n",
    "    y1 = y1+dt*vy1\n",
    "    x2 = x2+dt*vx2\n",
    "    y2 = y2+dt*vy2\n",
    "\n",
    "\n",
    "# menghitung kecepatan\t\n",
    "    vx1 = vx1+dt*ax1\n",
    "    vy1 = vy1+dt*ay1\n",
    "    vx2 = vx2+dt*ax2\n",
    "    vy2 = vy2+dt*ay2\n",
    "\n",
    "        # menghitung percepatan\n",
    "    rm =  ((x1-x2)**2. + (y1-y2)**2.)**1.5\n",
    "    ax1 = -grav*(x2-x1)/(rm*m1)\n",
    "    ay1 = -grav*(y2-y1)/(rm*m1)\n",
    "    ax2 = -grav*(x1-x2)/(rm*m2)\n",
    "    ay2 = -grav*(y1-y2)/(rm*m2)\n",
    "\n",
    "    t = t + dt\n",
    "\n",
    "    \n",
    "    x1list.append(x1)\n",
    "    y1list.append(y1)\n",
    "    \n",
    "    x2list.append(x2)\n",
    "    y2list.append(y2)\n",
    "    \n",
    "#plot\n",
    "pylab.plot(x1list,y1list, \".\")\n",
    "pylab.plot(x2list,y2list, \".\")\n",
    "pylab.axis(\"equal\")\n",
    "pylab.xlabel(\"x\")\n",
    "pylab.ylabel(\"y\")\n",
    "pylab.show()"
   ]
  },
  {
   "cell_type": "code",
   "execution_count": 2,
   "metadata": {},
   "outputs": [
    {
     "data": {
      "text/plain": [
       "1.3999891111111112e-06"
      ]
     },
     "execution_count": 2,
     "metadata": {},
     "output_type": "execute_result"
    }
   ],
   "source": [
    "x1list[1]"
   ]
  },
  {
   "cell_type": "code",
   "execution_count": 3,
   "metadata": {},
   "outputs": [
    {
     "name": "stdout",
     "output_type": "stream",
     "text": [
      "menentukan nilai sin dan cos dari 0,30,60 - 360 derajat\n",
      "sudut \t sin \t cos \t tan\n"
     ]
    },
    {
     "ename": "NameError",
     "evalue": "name 'n' is not defined",
     "output_type": "error",
     "traceback": [
      "\u001b[1;31m---------------------------------------------------------------------------\u001b[0m",
      "\u001b[1;31mNameError\u001b[0m                                 Traceback (most recent call last)",
      "\u001b[1;32m<ipython-input-3-89d0727c2965>\u001b[0m in \u001b[0;36m<module>\u001b[1;34m\u001b[0m\n\u001b[0;32m      3\u001b[0m \u001b[0mprint\u001b[0m \u001b[1;33m(\u001b[0m\u001b[1;34m\"sudut\"\u001b[0m\u001b[1;33m,\u001b[0m\u001b[1;34m\"\\t\"\u001b[0m\u001b[1;33m,\u001b[0m\u001b[1;34m\"sin\"\u001b[0m\u001b[1;33m,\u001b[0m\u001b[1;34m\"\\t\"\u001b[0m\u001b[1;33m,\u001b[0m\u001b[1;34m\"cos\"\u001b[0m\u001b[1;33m,\u001b[0m\u001b[1;34m\"\\t\"\u001b[0m\u001b[1;33m,\u001b[0m\u001b[1;34m\"tan\"\u001b[0m\u001b[1;33m)\u001b[0m\u001b[1;33m\u001b[0m\u001b[1;33m\u001b[0m\u001b[0m\n\u001b[0;32m      4\u001b[0m \u001b[1;32mfor\u001b[0m \u001b[0mi\u001b[0m \u001b[1;32min\u001b[0m \u001b[0mrange\u001b[0m \u001b[1;33m(\u001b[0m\u001b[1;36m0\u001b[0m\u001b[1;33m,\u001b[0m\u001b[1;36m361\u001b[0m\u001b[1;33m,\u001b[0m\u001b[1;36m30\u001b[0m\u001b[1;33m)\u001b[0m\u001b[1;33m:\u001b[0m\u001b[1;33m\u001b[0m\u001b[1;33m\u001b[0m\u001b[0m\n\u001b[1;32m----> 5\u001b[1;33m     \u001b[0ma\u001b[0m\u001b[1;33m=\u001b[0m\u001b[0mradians\u001b[0m \u001b[1;33m(\u001b[0m\u001b[0mn\u001b[0m\u001b[1;33m*\u001b[0m\u001b[0mi\u001b[0m\u001b[1;33m)\u001b[0m\u001b[1;33m\u001b[0m\u001b[1;33m\u001b[0m\u001b[0m\n\u001b[0m\u001b[0;32m      6\u001b[0m     \u001b[0mb\u001b[0m\u001b[1;33m=\u001b[0m\u001b[0msin\u001b[0m \u001b[1;33m(\u001b[0m\u001b[0ma\u001b[0m\u001b[1;33m)\u001b[0m\u001b[1;33m\u001b[0m\u001b[1;33m\u001b[0m\u001b[0m\n\u001b[0;32m      7\u001b[0m     \u001b[0mb\u001b[0m\u001b[1;33m=\u001b[0m\u001b[0mformat\u001b[0m\u001b[1;33m(\u001b[0m\u001b[0mb\u001b[0m\u001b[1;33m,\u001b[0m\u001b[1;34m'.2f'\u001b[0m\u001b[1;33m)\u001b[0m\u001b[1;33m\u001b[0m\u001b[1;33m\u001b[0m\u001b[0m\n",
      "\u001b[1;31mNameError\u001b[0m: name 'n' is not defined"
     ]
    }
   ],
   "source": [
    "from math import*\n",
    "print (\"menentukan nilai sin dan cos dari 0,30,60 - 360 derajat\")\n",
    "print (\"sudut\",\"\\t\",\"sin\",\"\\t\",\"cos\",\"\\t\",\"tan\")\n",
    "for i in range (0,361,30):\n",
    "    a=radians (n*i)\n",
    "    b=sin (a)\n",
    "    b=format(b,'.2f')\n",
    "    c=cos (a)\n",
    "    c=format(c,'.2f')\n",
    "    d=tan (a)\n",
    "    d=format(d,'.2f')\n",
    "    print (i,\"\\t\",b,\"\\t\",c,\"\\t\",d)\n",
    "input(\"selesai\")"
   ]
  },
  {
   "cell_type": "code",
   "execution_count": 8,
   "metadata": {},
   "outputs": [
    {
     "data": {
      "image/png": "[encoded data removed]",
      "text/plain": [
       "<Figure size 432x288 with 1 Axes>"
      ]
     },
     "metadata": {
      "needs_background": "light"
     },
     "output_type": "display_data"
    }
   ],
   "source": [
    "pylab.plot(x1list,y1list, \".\")\n",
    "pylab.plot(x2list,y2list, \".\")\n",
    "pylab.axis(\"equal\")\n",
    "pylab.xlabel(\"x\")\n",
    "pylab.ylabel(\"y\")\n",
    "pylab.show()"
   ]
  },
  {
   "cell_type": "code",
   "execution_count": null,
   "metadata": {},
   "outputs": [],
   "source": [
    "conda install python-polylabel"
   ]
  },
  {
   "cell_type": "code",
   "execution_count": null,
   "metadata": {},
   "outputs": [],
   "source": []
  }
 ],
 "metadata": {
  "kernelspec": {
   "display_name": "Python 3",
   "language": "python",
   "name": "python3"
  },
  "language_info": {
   "codemirror_mode": {
    "name": "ipython",
    "version": 3
   },
   "file_extension": ".py",
   "mimetype": "text/x-python",
   "name": "python",
   "nbconvert_exporter": "python",
   "pygments_lexer": "ipython3",
   "version": "3.7.4"
  }
 },
 "nbformat": 4,
 "nbformat_minor": 4
}
