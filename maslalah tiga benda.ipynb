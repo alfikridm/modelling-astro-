{
 "cells": [
  {
   "cell_type": "code",
   "execution_count": 1,
   "metadata": {},
   "outputs": [
    {
     "ename": "IndexError",
     "evalue": "list index out of range",
     "output_type": "error",
     "traceback": [
      "\u001b[1;31m---------------------------------------------------------------------------\u001b[0m",
      "\u001b[1;31mIndexError\u001b[0m                                Traceback (most recent call last)",
      "\u001b[1;32m<ipython-input-1-10cab3d032c8>\u001b[0m in \u001b[0;36m<module>\u001b[1;34m\u001b[0m\n\u001b[0;32m     68\u001b[0m \u001b[1;31m#gaya,kecepatan dan posisi antara massa 2 dan 3 dan append ke array\u001b[0m\u001b[1;33m\u001b[0m\u001b[1;33m\u001b[0m\u001b[1;33m\u001b[0m\u001b[0m\n\u001b[0;32m     69\u001b[0m \u001b[1;32mfor\u001b[0m \u001b[0mi\u001b[0m \u001b[1;32min\u001b[0m \u001b[0miterasi\u001b[0m\u001b[1;33m:\u001b[0m\u001b[1;33m\u001b[0m\u001b[1;33m\u001b[0m\u001b[0m\n\u001b[1;32m---> 70\u001b[1;33m     \u001b[0ma1\u001b[0m\u001b[1;33m=\u001b[0m\u001b[0mprcptn\u001b[0m\u001b[1;33m(\u001b[0m\u001b[0mr1x\u001b[0m\u001b[1;33m[\u001b[0m\u001b[0mi\u001b[0m\u001b[1;33m]\u001b[0m\u001b[1;33m,\u001b[0m\u001b[0mr1y\u001b[0m\u001b[1;33m[\u001b[0m\u001b[0mi\u001b[0m\u001b[1;33m]\u001b[0m\u001b[1;33m,\u001b[0m\u001b[0mr2x\u001b[0m\u001b[1;33m[\u001b[0m\u001b[0mi\u001b[0m\u001b[1;33m]\u001b[0m\u001b[1;33m,\u001b[0m\u001b[0mr2y\u001b[0m\u001b[1;33m[\u001b[0m\u001b[0mi\u001b[0m\u001b[1;33m]\u001b[0m\u001b[1;33m,\u001b[0m\u001b[0mr3x\u001b[0m\u001b[1;33m[\u001b[0m\u001b[0mi\u001b[0m\u001b[1;33m]\u001b[0m\u001b[1;33m,\u001b[0m\u001b[0mr3y\u001b[0m\u001b[1;33m[\u001b[0m\u001b[0mi\u001b[0m\u001b[1;33m]\u001b[0m\u001b[1;33m,\u001b[0m\u001b[0mm\u001b[0m\u001b[1;33m[\u001b[0m\u001b[1;36m1\u001b[0m\u001b[1;33m]\u001b[0m\u001b[1;33m,\u001b[0m\u001b[0mm\u001b[0m\u001b[1;33m[\u001b[0m\u001b[1;36m2\u001b[0m\u001b[1;33m]\u001b[0m\u001b[1;33m)\u001b[0m\u001b[1;33m\u001b[0m\u001b[1;33m\u001b[0m\u001b[0m\n\u001b[0m\u001b[0;32m     71\u001b[0m     \u001b[0mv1\u001b[0m\u001b[1;33m=\u001b[0m\u001b[0mkcptn\u001b[0m\u001b[1;33m(\u001b[0m\u001b[0mv1x\u001b[0m\u001b[1;33m[\u001b[0m\u001b[0mi\u001b[0m\u001b[1;33m]\u001b[0m\u001b[1;33m,\u001b[0m\u001b[0mv1y\u001b[0m\u001b[1;33m[\u001b[0m\u001b[0mi\u001b[0m\u001b[1;33m]\u001b[0m\u001b[1;33m,\u001b[0m\u001b[0ma1\u001b[0m\u001b[1;33m,\u001b[0m\u001b[0mdt\u001b[0m\u001b[1;33m)\u001b[0m\u001b[1;33m\u001b[0m\u001b[1;33m\u001b[0m\u001b[0m\n\u001b[0;32m     72\u001b[0m     \u001b[0mv1x\u001b[0m\u001b[1;33m.\u001b[0m\u001b[0mappend\u001b[0m\u001b[1;33m(\u001b[0m\u001b[0mv1\u001b[0m\u001b[1;33m[\u001b[0m\u001b[1;36m0\u001b[0m\u001b[1;33m]\u001b[0m\u001b[1;33m)\u001b[0m\u001b[1;33m\u001b[0m\u001b[1;33m\u001b[0m\u001b[0m\n",
      "\u001b[1;32m<ipython-input-1-10cab3d032c8>\u001b[0m in \u001b[0;36mprcptn\u001b[1;34m(x1, y1, x2, y2, x3, y3, m2, m3)\u001b[0m\n\u001b[0;32m     46\u001b[0m     \u001b[0mx_2\u001b[0m \u001b[1;33m=\u001b[0m\u001b[0mvektor\u001b[0m\u001b[1;33m(\u001b[0m\u001b[0mx1\u001b[0m\u001b[1;33m,\u001b[0m\u001b[0my1\u001b[0m\u001b[1;33m,\u001b[0m\u001b[0mx2\u001b[0m\u001b[1;33m,\u001b[0m\u001b[0my2\u001b[0m\u001b[1;33m)\u001b[0m\u001b[1;33m\u001b[0m\u001b[1;33m\u001b[0m\u001b[0m\n\u001b[0;32m     47\u001b[0m     \u001b[0mx_3\u001b[0m \u001b[1;33m=\u001b[0m\u001b[0mvektor\u001b[0m\u001b[1;33m(\u001b[0m\u001b[0mx1\u001b[0m\u001b[1;33m,\u001b[0m\u001b[0my1\u001b[0m\u001b[1;33m,\u001b[0m\u001b[0mx3\u001b[0m\u001b[1;33m,\u001b[0m\u001b[0my3\u001b[0m\u001b[1;33m)\u001b[0m\u001b[1;33m\u001b[0m\u001b[1;33m\u001b[0m\u001b[0m\n\u001b[1;32m---> 48\u001b[1;33m     \u001b[0ma2x\u001b[0m \u001b[1;33m=\u001b[0m\u001b[1;33m-\u001b[0m\u001b[0mG\u001b[0m\u001b[1;33m*\u001b[0m\u001b[0mm2\u001b[0m\u001b[1;33m*\u001b[0m\u001b[0mx_2\u001b[0m\u001b[1;33m[\u001b[0m\u001b[1;36m0\u001b[0m\u001b[1;33m]\u001b[0m\u001b[1;33m/\u001b[0m\u001b[0mfloat\u001b[0m\u001b[1;33m(\u001b[0m\u001b[0mpembagi\u001b[0m\u001b[1;33m(\u001b[0m\u001b[0mx_2\u001b[0m\u001b[1;33m)\u001b[0m\u001b[1;33m)\u001b[0m\u001b[1;33m\u001b[0m\u001b[1;33m\u001b[0m\u001b[0m\n\u001b[0m\u001b[0;32m     49\u001b[0m     \u001b[0ma2y\u001b[0m \u001b[1;33m=\u001b[0m\u001b[1;33m-\u001b[0m\u001b[0mG\u001b[0m\u001b[1;33m*\u001b[0m\u001b[0mm2\u001b[0m\u001b[1;33m*\u001b[0m\u001b[0mx_2\u001b[0m\u001b[1;33m[\u001b[0m\u001b[1;36m1\u001b[0m\u001b[1;33m]\u001b[0m\u001b[1;33m/\u001b[0m\u001b[0mfloat\u001b[0m\u001b[1;33m(\u001b[0m\u001b[0mpembagi\u001b[0m\u001b[1;33m(\u001b[0m\u001b[0mx_2\u001b[0m\u001b[1;33m)\u001b[0m\u001b[1;33m)\u001b[0m\u001b[1;33m\u001b[0m\u001b[1;33m\u001b[0m\u001b[0m\n\u001b[0;32m     50\u001b[0m     \u001b[0ma3x\u001b[0m \u001b[1;33m=\u001b[0m\u001b[1;33m-\u001b[0m\u001b[0mG\u001b[0m\u001b[1;33m*\u001b[0m\u001b[0mm3\u001b[0m\u001b[1;33m*\u001b[0m\u001b[0mx_3\u001b[0m\u001b[1;33m[\u001b[0m\u001b[1;36m0\u001b[0m\u001b[1;33m]\u001b[0m\u001b[1;33m/\u001b[0m\u001b[0mfloat\u001b[0m\u001b[1;33m(\u001b[0m\u001b[0mpembagi\u001b[0m\u001b[1;33m(\u001b[0m\u001b[0mx_3\u001b[0m\u001b[1;33m)\u001b[0m\u001b[1;33m)\u001b[0m\u001b[1;33m\u001b[0m\u001b[1;33m\u001b[0m\u001b[0m\n",
      "\u001b[1;32m<ipython-input-1-10cab3d032c8>\u001b[0m in \u001b[0;36mpembagi\u001b[1;34m(x)\u001b[0m\n\u001b[0;32m     42\u001b[0m     \u001b[1;32mreturn\u001b[0m\u001b[1;33m[\u001b[0m\u001b[0mx1\u001b[0m\u001b[1;33m-\u001b[0m\u001b[0mx2\u001b[0m\u001b[1;33m-\u001b[0m\u001b[0my1\u001b[0m\u001b[1;33m-\u001b[0m\u001b[0my2\u001b[0m\u001b[1;33m]\u001b[0m\u001b[1;33m\u001b[0m\u001b[1;33m\u001b[0m\u001b[0m\n\u001b[0;32m     43\u001b[0m \u001b[1;32mdef\u001b[0m \u001b[0mpembagi\u001b[0m \u001b[1;33m(\u001b[0m\u001b[0mx\u001b[0m\u001b[1;33m)\u001b[0m\u001b[1;33m:\u001b[0m\u001b[1;33m\u001b[0m\u001b[1;33m\u001b[0m\u001b[0m\n\u001b[1;32m---> 44\u001b[1;33m     \u001b[1;32mreturn\u001b[0m\u001b[1;33m(\u001b[0m\u001b[0mfloat\u001b[0m\u001b[1;33m(\u001b[0m\u001b[0mx\u001b[0m\u001b[1;33m[\u001b[0m\u001b[1;36m0\u001b[0m\u001b[1;33m]\u001b[0m\u001b[1;33m*\u001b[0m\u001b[0mx\u001b[0m\u001b[1;33m[\u001b[0m\u001b[1;36m0\u001b[0m\u001b[1;33m]\u001b[0m\u001b[1;33m+\u001b[0m\u001b[0mx\u001b[0m\u001b[1;33m[\u001b[0m\u001b[1;36m1\u001b[0m\u001b[1;33m]\u001b[0m\u001b[1;33m*\u001b[0m\u001b[0mx\u001b[0m\u001b[1;33m[\u001b[0m\u001b[1;36m1\u001b[0m\u001b[1;33m]\u001b[0m\u001b[1;33m)\u001b[0m\u001b[1;33m**\u001b[0m\u001b[1;33m(\u001b[0m\u001b[1;36m3\u001b[0m\u001b[1;33m/\u001b[0m\u001b[1;36m2.\u001b[0m\u001b[1;33m)\u001b[0m\u001b[1;33m)\u001b[0m\u001b[1;33m\u001b[0m\u001b[1;33m\u001b[0m\u001b[0m\n\u001b[0m\u001b[0;32m     45\u001b[0m \u001b[1;32mdef\u001b[0m \u001b[0mprcptn\u001b[0m \u001b[1;33m(\u001b[0m\u001b[0mx1\u001b[0m\u001b[1;33m,\u001b[0m\u001b[0my1\u001b[0m\u001b[1;33m,\u001b[0m\u001b[0mx2\u001b[0m\u001b[1;33m,\u001b[0m\u001b[0my2\u001b[0m\u001b[1;33m,\u001b[0m\u001b[0mx3\u001b[0m\u001b[1;33m,\u001b[0m\u001b[0my3\u001b[0m\u001b[1;33m,\u001b[0m\u001b[0mm2\u001b[0m\u001b[1;33m,\u001b[0m\u001b[0mm3\u001b[0m\u001b[1;33m)\u001b[0m\u001b[1;33m:\u001b[0m\u001b[1;33m\u001b[0m\u001b[1;33m\u001b[0m\u001b[0m\n\u001b[0;32m     46\u001b[0m     \u001b[0mx_2\u001b[0m \u001b[1;33m=\u001b[0m\u001b[0mvektor\u001b[0m\u001b[1;33m(\u001b[0m\u001b[0mx1\u001b[0m\u001b[1;33m,\u001b[0m\u001b[0my1\u001b[0m\u001b[1;33m,\u001b[0m\u001b[0mx2\u001b[0m\u001b[1;33m,\u001b[0m\u001b[0my2\u001b[0m\u001b[1;33m)\u001b[0m\u001b[1;33m\u001b[0m\u001b[1;33m\u001b[0m\u001b[0m\n",
      "\u001b[1;31mIndexError\u001b[0m: list index out of range"
     ]
    }
   ],
   "source": [
    "import pylab\n",
    "\n",
    "# definisi variabel\n",
    "G = 1.0\n",
    "m = [3.,4.,5.]\n",
    "r1 = [1.,3.,0.]\n",
    "r2 = [-2.,-1.,0.]\n",
    "r3 = [1.,-1.,0.]\n",
    "v1 = [0.,0.,0.]\n",
    "v2 = [0.,0.,0.]\n",
    "v3 = [0.,0.,0.]\n",
    "\n",
    "# Array\n",
    "r1x =[]\n",
    "r2x =[]\n",
    "r3x =[]\n",
    "r1y =[]\n",
    "r2y =[]\n",
    "r3y =[]\n",
    "v1x =[]\n",
    "v2x =[]\n",
    "v3x =[]\n",
    "v1y =[]\n",
    "v2y =[]\n",
    "v3y =[]\n",
    "\n",
    "# time\n",
    "tmax = 5.\n",
    "dt = 0.001\n",
    "n = int (tmax/dt)\n",
    "\n",
    "#append array kondisi awal\n",
    "r1x.append(r1[0]),v1x.append(v1[0])\n",
    "r1y.append(r1[1]),v1y.append(v1[1])\n",
    "r2x.append(r2[0]),v2x.append(v2[0])\n",
    "r2y.append(r2[1]),v2y.append(v2[1])\n",
    "r3x.append(r2[0]),v2x.append(v2[0])\n",
    "r3y.append(r2[1]),v2y.append(v3[1])\n",
    "\n",
    "#definisi rumus\n",
    "def vektor (x1,y1,x2,y2):\n",
    "    return[x1-x2-y1-y2]\n",
    "def pembagi (x):\n",
    "    return(float(x[0]*x[0]+x[1]*x[1])**(3/2.))\n",
    "def prcptn (x1,y1,x2,y2,x3,y3,m2,m3):\n",
    "    x_2 =vektor(x1,y1,x2,y2)\n",
    "    x_3 =vektor(x1,y1,x3,y3)\n",
    "    a2x =-G*m2*x_2[0]/float(pembagi(x_2))\n",
    "    a2y =-G*m2*x_2[1]/float(pembagi(x_2))\n",
    "    a3x =-G*m3*x_3[0]/float(pembagi(x_3))\n",
    "    a3y =-G*m3*x_3[1]/float(pembagi(x_3))\n",
    "    ax =(a2x+a3X)\n",
    "    ay =(a2y+a3y)\n",
    "    return[ax,ay]\n",
    "def kcptn(vx,vy,a,t):\n",
    "    vxf=vx+a[0]*t\n",
    "    vyf=vy+a[1]*t\n",
    "    return[vxf,vyf]\n",
    "def posisi(x,y,vx,vy,a,t):\n",
    "    xf=x+vx*t+.5*a[0]*t*t\n",
    "    yf=y+vy*t+.5*a[1]*t*t\n",
    "    return [xf,yf]\n",
    "\n",
    "#jumlah iterasi\n",
    "iterasi = range(0,n)\n",
    "\n",
    "#mulai pengerjaan\n",
    "#gaya,kecepatan dan posisi antara massa 2 dan 3 dan append ke array\n",
    "for i in iterasi:\n",
    "    a1=prcptn(r1x[i],r1y[i],r2x[i],r2y[i],r3x[i],r3y[i],m[1],m[2])\n",
    "    v1=kcptn(v1x[i],v1y[i],a1,dt)\n",
    "    v1x.append(v1[0])\n",
    "    v1y.append(v1[1])\n",
    "    pos1=posisi(r1x[i],r1y[i],v1x[i],v1y[i],a1,dt)\n",
    "    r1x.append(pos1[0])\n",
    "    r1y.append(pos1[1])\n",
    "#gaya kecepatan dan posisi antara massa 1 dan 2 dan append ke array\n",
    "    a1=prcptn(r3x[i],r3y[i],r2x[i],r2y[i],r1x[i],r1y[i],m[0],m[1])\n",
    "    v1=kcptn(v3x[i],v3y[i],a1,dt)\n",
    "    v3x.append(v1[0])\n",
    "    v3y.append(v1[1])\n",
    "    pos1= posisi(r3x[i],r3y[i],v3x[i],v3y[i],al,dt)\n",
    "    r3x.append(pos1[0])\n",
    "    r3y.append(pos1[1])\n",
    "    \n",
    "#grafik\n",
    "lab.plot(r1x,r1y,'g' ,label=\"benda 1\")\n",
    "lab.plot(r2x,r2y,'r' ,label=\"benda 2\")\n",
    "lab.plot(r3x,r3y,'m' ,label=\"benda 3\")\n",
    "lab.xlabel(\"x\"),lab.ylabel(\"y\")\n",
    "lab.axis(\"equal\")\n",
    "lab.legend()\n",
    "lab.show()\n",
    "\n",
    "\n"
   ]
  },
  {
   "cell_type": "code",
   "execution_count": null,
   "metadata": {
    "collapsed": true
   },
   "outputs": [],
   "source": []
  },
  {
   "cell_type": "code",
   "execution_count": null,
   "metadata": {
    "collapsed": true
   },
   "outputs": [],
   "source": []
  },
  {
   "cell_type": "code",
   "execution_count": null,
   "metadata": {
    "collapsed": true
   },
   "outputs": [],
   "source": []
  }
 ],
 "metadata": {
  "kernelspec": {
   "display_name": "Python 3",
   "language": "python",
   "name": "python3"
  },
  "language_info": {
   "codemirror_mode": {
    "name": "ipython",
    "version": 3
   },
   "file_extension": ".py",
   "mimetype": "text/x-python",
   "name": "python",
   "nbconvert_exporter": "python",
   "pygments_lexer": "ipython3",
   "version": "3.7.4"
  }
 },
 "nbformat": 4,
 "nbformat_minor": 2
}
